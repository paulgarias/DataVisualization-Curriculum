{
 "cells": [
  {
   "cell_type": "code",
   "execution_count": 4,
   "metadata": {},
   "outputs": [],
   "source": [
    "import pandas as pd\n",
    "import matplotlib\n",
    "from matplotlib import pyplot as plt\n",
    "import numpy as np\n",
    "\n",
    "matplotlib.rcParams.update({'font.size':18,\n",
    "                            'figure.facecolor': (1,1,1,1)})\n",
    "matplotlib.rc('xtick', labelsize=18) \n",
    "matplotlib.rc('ytick', labelsize=18)"
   ]
  },
  {
   "cell_type": "code",
   "execution_count": 5,
   "metadata": {},
   "outputs": [
    {
     "data": {
      "text/html": [
       "<div>\n",
       "<style scoped>\n",
       "    .dataframe tbody tr th:only-of-type {\n",
       "        vertical-align: middle;\n",
       "    }\n",
       "\n",
       "    .dataframe tbody tr th {\n",
       "        vertical-align: top;\n",
       "    }\n",
       "\n",
       "    .dataframe thead th {\n",
       "        text-align: right;\n",
       "    }\n",
       "</style>\n",
       "<table border=\"1\" class=\"dataframe\">\n",
       "  <thead>\n",
       "    <tr style=\"text-align: right;\">\n",
       "      <th></th>\n",
       "      <th>Item_Identifier</th>\n",
       "      <th>Item_Weight</th>\n",
       "      <th>Item_Fat_Content</th>\n",
       "      <th>Item_Visibility</th>\n",
       "      <th>Item_Type</th>\n",
       "      <th>Item_MRP</th>\n",
       "      <th>Outlet_Identifier</th>\n",
       "      <th>Outlet_Establishment_Year</th>\n",
       "      <th>Outlet_Size</th>\n",
       "      <th>Outlet_Location_Type</th>\n",
       "      <th>Outlet_Type</th>\n",
       "      <th>Item_Outlet_Sales</th>\n",
       "    </tr>\n",
       "  </thead>\n",
       "  <tbody>\n",
       "    <tr>\n",
       "      <th>0</th>\n",
       "      <td>FDA15</td>\n",
       "      <td>9.30</td>\n",
       "      <td>Low Fat</td>\n",
       "      <td>0.016047</td>\n",
       "      <td>Dairy</td>\n",
       "      <td>249.8092</td>\n",
       "      <td>OUT049</td>\n",
       "      <td>1999</td>\n",
       "      <td>Medium</td>\n",
       "      <td>Tier 1</td>\n",
       "      <td>Supermarket Type1</td>\n",
       "      <td>3735.1380</td>\n",
       "    </tr>\n",
       "    <tr>\n",
       "      <th>1</th>\n",
       "      <td>DRC01</td>\n",
       "      <td>5.92</td>\n",
       "      <td>Regular</td>\n",
       "      <td>0.019278</td>\n",
       "      <td>Soft Drinks</td>\n",
       "      <td>48.2692</td>\n",
       "      <td>OUT018</td>\n",
       "      <td>2009</td>\n",
       "      <td>Medium</td>\n",
       "      <td>Tier 3</td>\n",
       "      <td>Supermarket Type2</td>\n",
       "      <td>443.4228</td>\n",
       "    </tr>\n",
       "    <tr>\n",
       "      <th>2</th>\n",
       "      <td>FDN15</td>\n",
       "      <td>17.50</td>\n",
       "      <td>Low Fat</td>\n",
       "      <td>0.016760</td>\n",
       "      <td>Meat</td>\n",
       "      <td>141.6180</td>\n",
       "      <td>OUT049</td>\n",
       "      <td>1999</td>\n",
       "      <td>Medium</td>\n",
       "      <td>Tier 1</td>\n",
       "      <td>Supermarket Type1</td>\n",
       "      <td>2097.2700</td>\n",
       "    </tr>\n",
       "    <tr>\n",
       "      <th>3</th>\n",
       "      <td>FDX07</td>\n",
       "      <td>19.20</td>\n",
       "      <td>Regular</td>\n",
       "      <td>0.000000</td>\n",
       "      <td>Fruits and Vegetables</td>\n",
       "      <td>182.0950</td>\n",
       "      <td>OUT010</td>\n",
       "      <td>1998</td>\n",
       "      <td>NaN</td>\n",
       "      <td>Tier 3</td>\n",
       "      <td>Grocery Store</td>\n",
       "      <td>732.3800</td>\n",
       "    </tr>\n",
       "    <tr>\n",
       "      <th>4</th>\n",
       "      <td>NCD19</td>\n",
       "      <td>8.93</td>\n",
       "      <td>Low Fat</td>\n",
       "      <td>0.000000</td>\n",
       "      <td>Household</td>\n",
       "      <td>53.8614</td>\n",
       "      <td>OUT013</td>\n",
       "      <td>1987</td>\n",
       "      <td>High</td>\n",
       "      <td>Tier 3</td>\n",
       "      <td>Supermarket Type1</td>\n",
       "      <td>994.7052</td>\n",
       "    </tr>\n",
       "  </tbody>\n",
       "</table>\n",
       "</div>"
      ],
      "text/plain": [
       "  Item_Identifier  Item_Weight Item_Fat_Content  Item_Visibility  \\\n",
       "0           FDA15         9.30          Low Fat         0.016047   \n",
       "1           DRC01         5.92          Regular         0.019278   \n",
       "2           FDN15        17.50          Low Fat         0.016760   \n",
       "3           FDX07        19.20          Regular         0.000000   \n",
       "4           NCD19         8.93          Low Fat         0.000000   \n",
       "\n",
       "               Item_Type  Item_MRP Outlet_Identifier  \\\n",
       "0                  Dairy  249.8092            OUT049   \n",
       "1            Soft Drinks   48.2692            OUT018   \n",
       "2                   Meat  141.6180            OUT049   \n",
       "3  Fruits and Vegetables  182.0950            OUT010   \n",
       "4              Household   53.8614            OUT013   \n",
       "\n",
       "   Outlet_Establishment_Year Outlet_Size Outlet_Location_Type  \\\n",
       "0                       1999      Medium               Tier 1   \n",
       "1                       2009      Medium               Tier 3   \n",
       "2                       1999      Medium               Tier 1   \n",
       "3                       1998         NaN               Tier 3   \n",
       "4                       1987        High               Tier 3   \n",
       "\n",
       "         Outlet_Type  Item_Outlet_Sales  \n",
       "0  Supermarket Type1          3735.1380  \n",
       "1  Supermarket Type2           443.4228  \n",
       "2  Supermarket Type1          2097.2700  \n",
       "3      Grocery Store           732.3800  \n",
       "4  Supermarket Type1           994.7052  "
      ]
     },
     "execution_count": 5,
     "metadata": {},
     "output_type": "execute_result"
    }
   ],
   "source": [
    "df = pd.read_csv(\"Train.csv\")\n",
    "df.head()"
   ]
  },
  {
   "cell_type": "code",
   "execution_count": 6,
   "metadata": {},
   "outputs": [
    {
     "data": {
      "text/plain": [
       "Item_Identifier              8523\n",
       "Item_Weight                  7060\n",
       "Item_Fat_Content             8523\n",
       "Item_Visibility              8523\n",
       "Item_Type                    8523\n",
       "Item_MRP                     8523\n",
       "Outlet_Identifier            8523\n",
       "Outlet_Establishment_Year    8523\n",
       "Outlet_Size                  6113\n",
       "Outlet_Location_Type         8523\n",
       "Outlet_Type                  8523\n",
       "Item_Outlet_Sales            8523\n",
       "dtype: int64"
      ]
     },
     "execution_count": 6,
     "metadata": {},
     "output_type": "execute_result"
    }
   ],
   "source": [
    "df.count()"
   ]
  },
  {
   "cell_type": "code",
   "execution_count": 7,
   "metadata": {},
   "outputs": [
    {
     "data": {
      "text/plain": [
       "Item_Identifier              4650\n",
       "Item_Weight                  4650\n",
       "Item_Fat_Content             4650\n",
       "Item_Visibility              4650\n",
       "Item_Type                    4650\n",
       "Item_MRP                     4650\n",
       "Outlet_Identifier            4650\n",
       "Outlet_Establishment_Year    4650\n",
       "Outlet_Size                  4650\n",
       "Outlet_Location_Type         4650\n",
       "Outlet_Type                  4650\n",
       "Item_Outlet_Sales            4650\n",
       "dtype: int64"
      ]
     },
     "execution_count": 7,
     "metadata": {},
     "output_type": "execute_result"
    }
   ],
   "source": [
    "df = df.dropna()\n",
    "df.count()"
   ]
  },
  {
   "cell_type": "code",
   "execution_count": 8,
   "metadata": {},
   "outputs": [
    {
     "data": {
      "text/plain": [
       "Item_Type\n",
       "Baking Goods             7.184262e+05\n",
       "Breads                   3.154407e+05\n",
       "Breakfast                1.277837e+05\n",
       "Canned                   7.960811e+05\n",
       "Dairy                    8.882198e+05\n",
       "Frozen Foods             1.059900e+06\n",
       "Fruits and Vegetables    1.549511e+06\n",
       "Hard Drinks              2.612932e+05\n",
       "Health and Hygiene       5.922457e+05\n",
       "Household                1.188504e+06\n",
       "Meat                     4.972714e+05\n",
       "Others                   1.996714e+05\n",
       "Seafood                  9.181382e+04\n",
       "Snack Foods              1.568592e+06\n",
       "Soft Drinks              4.941315e+05\n",
       "Starchy Foods            2.160887e+05\n",
       "Name: Item_Outlet_Sales, dtype: float64"
      ]
     },
     "execution_count": 8,
     "metadata": {},
     "output_type": "execute_result"
    }
   ],
   "source": [
    "df.groupby(\"Item_Type\")[\"Item_Outlet_Sales\"].sum() "
   ]
  },
  {
   "cell_type": "code",
   "execution_count": 9,
   "metadata": {},
   "outputs": [
    {
     "data": {
      "text/plain": [
       "Item_Type\n",
       "Baking Goods             2046.798187\n",
       "Breads                   2389.702474\n",
       "Breakfast                2203.166638\n",
       "Canned                   2205.210750\n",
       "Dairy                    2337.420556\n",
       "Frozen Foods             2222.011887\n",
       "Fruits and Vegetables    2312.703005\n",
       "Hard Drinks              2233.275299\n",
       "Health and Hygiene       2138.071282\n",
       "Household                2386.554752\n",
       "Meat                     2250.096708\n",
       "Others                   2194.191457\n",
       "Seafood                  2782.236970\n",
       "Snack Foods              2391.146609\n",
       "Soft Drinks              2050.338007\n",
       "Starchy Foods            2483.778379\n",
       "Name: Item_Outlet_Sales, dtype: float64"
      ]
     },
     "execution_count": 9,
     "metadata": {},
     "output_type": "execute_result"
    }
   ],
   "source": [
    "df.groupby(\"Item_Type\")[\"Item_Outlet_Sales\"].mean()"
   ]
  },
  {
   "cell_type": "code",
   "execution_count": 10,
   "metadata": {},
   "outputs": [
    {
     "data": {
      "text/plain": [
       "Item_Type\n",
       "Baking Goods              7931.6754\n",
       "Breads                    6972.2576\n",
       "Breakfast                 6930.9780\n",
       "Canned                    7590.1200\n",
       "Dairy                    10256.6490\n",
       "Frozen Foods              7370.4060\n",
       "Fruits and Vegetables     7549.5062\n",
       "Hard Drinks               7843.1240\n",
       "Health and Hygiene        9779.9362\n",
       "Household                 7240.5750\n",
       "Meat                      6729.9064\n",
       "Others                    6008.8450\n",
       "Seafood                   6503.5344\n",
       "Snack Foods               9069.5276\n",
       "Soft Drinks               7017.5320\n",
       "Starchy Foods             8132.0812\n",
       "Name: Item_Outlet_Sales, dtype: float64"
      ]
     },
     "execution_count": 10,
     "metadata": {},
     "output_type": "execute_result"
    }
   ],
   "source": [
    "df.groupby(\"Item_Type\")[\"Item_Outlet_Sales\"].max()"
   ]
  },
  {
   "cell_type": "code",
   "execution_count": 11,
   "metadata": {},
   "outputs": [
    {
     "data": {
      "text/plain": [
       "Outlet_Size  Item_Type            \n",
       "High         Baking Goods             149715.7828\n",
       "             Breads                    52018.2882\n",
       "             Breakfast                 27355.7246\n",
       "             Canned                   143732.2382\n",
       "             Dairy                    196254.5370\n",
       "             Frozen Foods             203696.8494\n",
       "             Fruits and Vegetables    341526.7706\n",
       "             Hard Drinks               54362.5700\n",
       "             Health and Hygiene       119135.5888\n",
       "             Household                248046.4532\n",
       "             Meat                      95200.0788\n",
       "             Others                    35238.1308\n",
       "             Seafood                    8146.7288\n",
       "             Snack Foods              309246.1234\n",
       "             Soft Drinks              115234.6666\n",
       "             Starchy Foods             43753.0470\n",
       "Medium       Baking Goods             260328.4658\n",
       "             Breads                   115095.5144\n",
       "             Breakfast                 52710.7202\n",
       "             Canned                   283819.8872\n",
       "             Dairy                    331811.4170\n",
       "             Frozen Foods             399478.6684\n",
       "             Fruits and Vegetables    598585.4926\n",
       "             Hard Drinks              112373.0582\n",
       "             Health and Hygiene       221690.0944\n",
       "             Household                451084.8264\n",
       "             Meat                     199805.2484\n",
       "             Others                    84844.8914\n",
       "             Seafood                   33993.7506\n",
       "             Snack Foods              628958.6228\n",
       "             Soft Drinks              186081.1130\n",
       "             Starchy Foods             75130.8694\n",
       "Small        Baking Goods             308381.9150\n",
       "             Breads                   148326.9240\n",
       "             Breakfast                 47717.2202\n",
       "             Canned                   368528.9554\n",
       "             Dairy                    360153.8572\n",
       "             Frozen Foods             456724.1524\n",
       "             Fruits and Vegetables    609398.7504\n",
       "             Hard Drinks               94557.5818\n",
       "             Health and Hygiene       251420.0618\n",
       "             Household                489372.9870\n",
       "             Meat                     202266.0452\n",
       "             Others                    79588.4004\n",
       "             Seafood                   49673.3406\n",
       "             Snack Foods              630387.4296\n",
       "             Soft Drinks              192815.6800\n",
       "             Starchy Foods             97204.8026\n",
       "Name: Item_Outlet_Sales, dtype: float64"
      ]
     },
     "execution_count": 11,
     "metadata": {},
     "output_type": "execute_result"
    }
   ],
   "source": [
    "df.groupby([\"Outlet_Size\",\"Item_Type\"])[\"Item_Outlet_Sales\"].sum()"
   ]
  },
  {
   "cell_type": "code",
   "execution_count": 12,
   "metadata": {},
   "outputs": [],
   "source": [
    "df_sales_of_item_type_by_outSize_mean = pd.DataFrame(df.groupby([\"Outlet_Size\",\"Item_Type\"])[\"Item_Outlet_Sales\"].mean())"
   ]
  },
  {
   "cell_type": "code",
   "execution_count": 13,
   "metadata": {},
   "outputs": [
    {
     "data": {
      "text/html": [
       "<div>\n",
       "<style scoped>\n",
       "    .dataframe tbody tr th:only-of-type {\n",
       "        vertical-align: middle;\n",
       "    }\n",
       "\n",
       "    .dataframe tbody tr th {\n",
       "        vertical-align: top;\n",
       "    }\n",
       "\n",
       "    .dataframe thead th {\n",
       "        text-align: right;\n",
       "    }\n",
       "</style>\n",
       "<table border=\"1\" class=\"dataframe\">\n",
       "  <thead>\n",
       "    <tr style=\"text-align: right;\">\n",
       "      <th></th>\n",
       "      <th>Item_Outlet_Sales</th>\n",
       "    </tr>\n",
       "    <tr>\n",
       "      <th>Item_Type</th>\n",
       "      <th></th>\n",
       "    </tr>\n",
       "  </thead>\n",
       "  <tbody>\n",
       "    <tr>\n",
       "      <th>Baking Goods</th>\n",
       "      <td>2050.901134</td>\n",
       "    </tr>\n",
       "    <tr>\n",
       "      <th>Breads</th>\n",
       "      <td>2080.731528</td>\n",
       "    </tr>\n",
       "    <tr>\n",
       "      <th>Breakfast</th>\n",
       "      <td>2104.286508</td>\n",
       "    </tr>\n",
       "    <tr>\n",
       "      <th>Canned</th>\n",
       "      <td>2211.265203</td>\n",
       "    </tr>\n",
       "    <tr>\n",
       "      <th>Dairy</th>\n",
       "      <td>2453.181713</td>\n",
       "    </tr>\n",
       "    <tr>\n",
       "      <th>Frozen Foods</th>\n",
       "      <td>2214.096189</td>\n",
       "    </tr>\n",
       "    <tr>\n",
       "      <th>Fruits and Vegetables</th>\n",
       "      <td>2405.118103</td>\n",
       "    </tr>\n",
       "    <tr>\n",
       "      <th>Hard Drinks</th>\n",
       "      <td>2363.590000</td>\n",
       "    </tr>\n",
       "    <tr>\n",
       "      <th>Health and Hygiene</th>\n",
       "      <td>1953.042439</td>\n",
       "    </tr>\n",
       "    <tr>\n",
       "      <th>Household</th>\n",
       "      <td>2408.217992</td>\n",
       "    </tr>\n",
       "    <tr>\n",
       "      <th>Meat</th>\n",
       "      <td>2321.953141</td>\n",
       "    </tr>\n",
       "    <tr>\n",
       "      <th>Others</th>\n",
       "      <td>2202.383175</td>\n",
       "    </tr>\n",
       "    <tr>\n",
       "      <th>Seafood</th>\n",
       "      <td>1629.345760</td>\n",
       "    </tr>\n",
       "    <tr>\n",
       "      <th>Snack Foods</th>\n",
       "      <td>2473.968987</td>\n",
       "    </tr>\n",
       "    <tr>\n",
       "      <th>Soft Drinks</th>\n",
       "      <td>2351.727890</td>\n",
       "    </tr>\n",
       "    <tr>\n",
       "      <th>Starchy Foods</th>\n",
       "      <td>2302.791947</td>\n",
       "    </tr>\n",
       "  </tbody>\n",
       "</table>\n",
       "</div>"
      ],
      "text/plain": [
       "                       Item_Outlet_Sales\n",
       "Item_Type                               \n",
       "Baking Goods                 2050.901134\n",
       "Breads                       2080.731528\n",
       "Breakfast                    2104.286508\n",
       "Canned                       2211.265203\n",
       "Dairy                        2453.181713\n",
       "Frozen Foods                 2214.096189\n",
       "Fruits and Vegetables        2405.118103\n",
       "Hard Drinks                  2363.590000\n",
       "Health and Hygiene           1953.042439\n",
       "Household                    2408.217992\n",
       "Meat                         2321.953141\n",
       "Others                       2202.383175\n",
       "Seafood                      1629.345760\n",
       "Snack Foods                  2473.968987\n",
       "Soft Drinks                  2351.727890\n",
       "Starchy Foods                2302.791947"
      ]
     },
     "execution_count": 13,
     "metadata": {},
     "output_type": "execute_result"
    }
   ],
   "source": [
    "df_sales_of_item_type_by_outSize_mean.loc[(\"High\"),:]"
   ]
  },
  {
   "cell_type": "code",
   "execution_count": 14,
   "metadata": {},
   "outputs": [
    {
     "data": {
      "text/plain": [
       "<AxesSubplot:xlabel='Item_Type'>"
      ]
     },
     "execution_count": 14,
     "metadata": {},
     "output_type": "execute_result"
    },
    {
     "data": {
      "image/png": "[encoded data removed]",
      "text/plain": [
       "<Figure size 432x288 with 1 Axes>"
      ]
     },
     "metadata": {},
     "output_type": "display_data"
    }
   ],
   "source": [
    "# making a bar graph\n",
    "df_sales_of_item_type_by_outSize_mean.loc[(\"High\"),:].plot(kind=\"bar\")"
   ]
  },
  {
   "cell_type": "code",
   "execution_count": 15,
   "metadata": {},
   "outputs": [
    {
     "data": {
      "text/html": [
       "<div>\n",
       "<style scoped>\n",
       "    .dataframe tbody tr th:only-of-type {\n",
       "        vertical-align: middle;\n",
       "    }\n",
       "\n",
       "    .dataframe tbody tr th {\n",
       "        vertical-align: top;\n",
       "    }\n",
       "\n",
       "    .dataframe thead th {\n",
       "        text-align: right;\n",
       "    }\n",
       "</style>\n",
       "<table border=\"1\" class=\"dataframe\">\n",
       "  <thead>\n",
       "    <tr style=\"text-align: right;\">\n",
       "      <th></th>\n",
       "      <th>Item_Outlet_Sales</th>\n",
       "    </tr>\n",
       "    <tr>\n",
       "      <th>Item_Type</th>\n",
       "      <th></th>\n",
       "    </tr>\n",
       "  </thead>\n",
       "  <tbody>\n",
       "    <tr>\n",
       "      <th>Snack Foods</th>\n",
       "      <td>2473.968987</td>\n",
       "    </tr>\n",
       "    <tr>\n",
       "      <th>Dairy</th>\n",
       "      <td>2453.181713</td>\n",
       "    </tr>\n",
       "    <tr>\n",
       "      <th>Household</th>\n",
       "      <td>2408.217992</td>\n",
       "    </tr>\n",
       "    <tr>\n",
       "      <th>Fruits and Vegetables</th>\n",
       "      <td>2405.118103</td>\n",
       "    </tr>\n",
       "    <tr>\n",
       "      <th>Hard Drinks</th>\n",
       "      <td>2363.590000</td>\n",
       "    </tr>\n",
       "  </tbody>\n",
       "</table>\n",
       "</div>"
      ],
      "text/plain": [
       "                       Item_Outlet_Sales\n",
       "Item_Type                               \n",
       "Snack Foods                  2473.968987\n",
       "Dairy                        2453.181713\n",
       "Household                    2408.217992\n",
       "Fruits and Vegetables        2405.118103\n",
       "Hard Drinks                  2363.590000"
      ]
     },
     "execution_count": 15,
     "metadata": {},
     "output_type": "execute_result"
    }
   ],
   "source": [
    "df_top_5 = df_sales_of_item_type_by_outSize_mean.loc[(\"High\"),:].sort_values(\"Item_Outlet_Sales\",ascending=False)[0:5]\n",
    "df_top_5.head()"
   ]
  },
  {
   "cell_type": "code",
   "execution_count": 16,
   "metadata": {},
   "outputs": [
    {
     "data": {
      "text/plain": [
       "(['Snack Foods', 'Dairy', 'Household', 'Fruits and Vegetables', 'Hard Drinks'],\n",
       " array([2473.9689872 , 2453.1817125 , 2408.21799223, 2405.11810282,\n",
       "        2363.59      ]))"
      ]
     },
     "execution_count": 16,
     "metadata": {},
     "output_type": "execute_result"
    }
   ],
   "source": [
    "cat = list(df_top_5.index)\n",
    "vals =df_top_5['Item_Outlet_Sales'].values\n",
    "cat,vals"
   ]
  },
  {
   "cell_type": "code",
   "execution_count": null,
   "metadata": {},
   "outputs": [],
   "source": []
  },
  {
   "cell_type": "code",
   "execution_count": null,
   "metadata": {},
   "outputs": [],
   "source": []
  },
  {
   "cell_type": "code",
   "execution_count": 27,
   "metadata": {},
   "outputs": [
    {
     "data": {
      "image/png": "[encoded data removed]",
      "text/plain": [
       "<Figure size 720x720 with 1 Axes>"
      ]
     },
     "metadata": {},
     "output_type": "display_data"
    }
   ],
   "source": [
    "\n",
    "fig, ax = plt.subplots(figsize=(10, 10), subplot_kw=dict(aspect=\"equal\"))\n",
    "\n",
    "explode = [0 for i in vals]\n",
    "wedges, texts, _ = ax.pie(vals,labels=cat,\n",
    "                         explode=explode, \n",
    "                         autopct='%1.1f%%',\n",
    "                         shadow=False, \n",
    "                         startangle=0,\n",
    "                         textprops={'color':'w',\n",
    "                                   'fontweight':'bold'})\n",
    "\n",
    "texts.clear()\n",
    "ax.legend(wedges, cat,\n",
    "          title=\"Food type\",\n",
    "          loc=\"center left\", # make the center of the left edge of the legend box\n",
    "          bbox_to_anchor=(1, 0.55)) # and place it at 100% position of the figures width, and 55% position of the figure's height\n",
    "          # Think of bbox_to_anchor as an x,y coordinate of the loc\n",
    "\n",
    "ax.set_title(\"Top 5 Food Types in High-Type Outlets\",fontdict={'fontsize':30})\n",
    "\n",
    "plt.show()"
   ]
  },
  {
   "cell_type": "code",
   "execution_count": null,
   "metadata": {},
   "outputs": [],
   "source": []
  },
  {
   "cell_type": "code",
   "execution_count": null,
   "metadata": {},
   "outputs": [],
   "source": []
  },
  {
   "cell_type": "code",
   "execution_count": null,
   "metadata": {},
   "outputs": [],
   "source": []
  }
 ],
 "metadata": {
  "kernelspec": {
   "display_name": "Python 3.7.7 ('OARC')",
   "language": "python",
   "name": "python3"
  },
  "language_info": {
   "codemirror_mode": {
    "name": "ipython",
    "version": 3
   },
   "file_extension": ".py",
   "mimetype": "text/x-python",
   "name": "python",
   "nbconvert_exporter": "python",
   "pygments_lexer": "ipython3",
   "version": "3.7.7"
  },
  "orig_nbformat": 4,
  "vscode": {
   "interpreter": {
    "hash": "c00aa8b6cb2ab1870efee9ad1e417d9877a10386287ecd49569157c6f5c1c0ac"
   }
  }
 },
 "nbformat": 4,
 "nbformat_minor": 2
}
