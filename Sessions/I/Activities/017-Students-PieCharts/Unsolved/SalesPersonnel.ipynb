{
 "cells": [
  {
   "cell_type": "code",
   "execution_count": null,
   "metadata": {},
   "outputs": [],
   "source": [
    "# import dependencies\n",
    "\n",
    "import pandas as pd\n",
    "import matplotlib\n",
    "from matplotlib import pyplot as plt\n",
    "import numpy as np\n",
    "\n",
    "matplotlib.rcParams.update({'font.size':20,\n",
    "                            'figure.facecolor': (1,1,1,1)})\n",
    "matplotlib.rc('xtick', labelsize=18) \n",
    "matplotlib.rc('ytick', labelsize=18)\n",
    "\n"
   ]
  },
  {
   "cell_type": "code",
   "execution_count": 1,
   "metadata": {},
   "outputs": [],
   "source": [
    "# import the personnel file and take a look at the values\n"
   ]
  },
  {
   "cell_type": "code",
   "execution_count": null,
   "metadata": {},
   "outputs": [],
   "source": [
    "# create an explosion tuple for the person with the highest sales\n"
   ]
  },
  {
   "cell_type": "code",
   "execution_count": null,
   "metadata": {},
   "outputs": [],
   "source": [
    "# create a the figure for the pie chart for person with the higest sales\n",
    "fig, ax = plt.subplots(figsize=(10, 10), subplot_kw=dict(aspect=\"equal\"))\n",
    "\n",
    "\n",
    "wedges, texts, _ = ax.pi() # enter the arguments\n",
    "\n",
    "# add the legend\n",
    "texts.clear()\n",
    "ax.legend() # enter arguments\n",
    "\n",
    "# add a title to the figure\n",
    "ax.set_title() # enter arguments\n",
    "\n",
    "\n",
    "plt.show()"
   ]
  }
 ],
 "metadata": {
  "kernelspec": {
   "display_name": "Python 3.7.7 ('OARC')",
   "language": "python",
   "name": "python3"
  },
  "language_info": {
   "codemirror_mode": {
    "name": "ipython",
    "version": 3
   },
   "file_extension": ".py",
   "mimetype": "text/x-python",
   "name": "python",
   "nbconvert_exporter": "python",
   "pygments_lexer": "ipython3",
   "version": "3.7.7"
  },
  "orig_nbformat": 4,
  "vscode": {
   "interpreter": {
    "hash": "c00aa8b6cb2ab1870efee9ad1e417d9877a10386287ecd49569157c6f5c1c0ac"
   }
  }
 },
 "nbformat": 4,
 "nbformat_minor": 2
}
